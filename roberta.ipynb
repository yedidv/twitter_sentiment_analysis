{
 "metadata": {
  "language_info": {
   "codemirror_mode": {
    "name": "ipython",
    "version": 3
   },
   "file_extension": ".py",
   "mimetype": "text/x-python",
   "name": "python",
   "nbconvert_exporter": "python",
   "pygments_lexer": "ipython3",
   "version": "3.8.3-final"
  },
  "orig_nbformat": 2,
  "kernelspec": {
   "name": "python3",
   "display_name": "Python 3.8.3 64-bit ('anaconda3': virtualenv)",
   "metadata": {
    "interpreter": {
     "hash": "212983865df447a587cd02ed42187f39760d467fb0227a7a0f46f8f8baf099d2"
    }
   }
  }
 },
 "nbformat": 4,
 "nbformat_minor": 2,
 "cells": [
  {
   "cell_type": "code",
   "execution_count": null,
   "metadata": {},
   "outputs": [],
   "source": [
    "#!pip install simpletransformers\n",
    "import pandas as pd\n",
    "import os \n",
    "import torch\n",
    "from simpletransformers.question_answering import QuestionAnsweringModel\n",
    "import json\n",
    "\n",
    "\n",
    "\n",
    "train = pd.read_csv('train.csv') \n",
    "test = pd.read_csv('test.csv') \n",
    "train= train.dropna() "
   ]
  },
  {
   "cell_type": "code",
   "execution_count": null,
   "metadata": {},
   "outputs": [],
   "source": [
    "def FormatTrain(train): \n",
    "\n",
    "    ## We need to properly format the data so it can be used in the model. \n",
    "    ## As explained by Sourav Kumar Goyal, the input format must be exactly \n",
    "    ''' \n",
    "    {\n",
    "        'context': \"This tweet sentiment extraction challenge is great\",\n",
    "        'qas': [\n",
    "            {\n",
    "                'id': \"00001\",\n",
    "                'question': \"positive\",\n",
    "                'answers': [\n",
    "                    {\n",
    "                        'text': \"is great\",\n",
    "                        'answer_start': 43\n",
    "                    }\n",
    "                ]\n",
    "            }\n",
    "        ]\n",
    "    }\n",
    "    ]\n",
    "    ''' \n",
    "    ## in order to be interpreted by the model \n",
    "\n",
    "\n",
    "\n",
    "\n",
    "    output = [] \n",
    "    for index, row in train.iterrows(): \n",
    "\n",
    "\n",
    "        ## Find the start and end points of the selected text within the text \n",
    "        answer_start = row.text.find(row.selected_text) \n",
    "\n",
    "        context = row.text\n",
    "        question_id = row.textID \n",
    "        question = row.sentiment \n",
    "\n",
    "        answer = row.selected_text \n",
    "\n",
    "        ans = [] \n",
    "        qas = [] \n",
    "\n",
    "        ans.append({'text': answer, 'answer_start': answer_start}) \n",
    "        qas.append({'id': question_id, 'question': question, 'is_impossible': False, 'answers': ans})\n",
    "        \n",
    "        output.append({'context': context, 'qas': qas})\n",
    "\n",
    "    return output\n",
    "\n",
    "\n",
    "def FormatTest(test): \n",
    "    ## According to Sourav Kumar Goyal, the test data must be of the format \n",
    "    '''\n",
    "    {\n",
    "        'context': \"Some context as a demo\",\n",
    "        'qas': [\n",
    "            {'id': '0', 'question': 'neutral'}\n",
    "        ]\n",
    "    }\n",
    "])''' \n",
    "\n",
    "\n",
    "\n",
    "    output = [] \n",
    "    for index, row in test.iterrows(): \n",
    "        qas = []\n",
    "        \n",
    "        context = row.text \n",
    "        question = row.sentiment \n",
    "        question_id = row.textID\n",
    "\n",
    "        qas.append({'id': question_id, 'question': question}) \n",
    "\n",
    "        output.append({'context': context, 'qas': qas})\n",
    "    return output\n",
    "\n"
   ]
  },
  {
   "cell_type": "code",
   "execution_count": null,
   "metadata": {},
   "outputs": [],
   "source": [
    "formatted_train_data = FormatTrain(train) \n",
    "formatted_test_data = FormatTest(test) "
   ]
  },
  {
   "cell_type": "code",
   "execution_count": null,
   "metadata": {},
   "outputs": [],
   "source": [
    "\n",
    "model = QuestionAnsweringModel('distilbert', 'distilbert-base-uncased-distilled-squad', \n",
    "                               args={'reprocess_input_data': True,\n",
    "                                     'overwrite_output_dir': True,\n",
    "                                     'learning_rate': 3e-2,\n",
    "                                     'num_train_epochs': 1,\n",
    "                                     'max_seq_length': 128,\n",
    "                                     'doc_stride': 64,\n",
    "                                     'fp16': False,\n",
    "                                    }, use_cuda = False\n",
    "                              )\n",
    "                              "
   ]
  },
  {
   "cell_type": "code",
   "execution_count": null,
   "metadata": {},
   "outputs": [],
   "source": [
    "model.train_model(formatted_train_data) "
   ]
  },
  {
   "cell_type": "code",
   "execution_count": null,
   "metadata": {},
   "outputs": [],
   "source": [
    "prediction = model.predict(formatted_train_data) \n",
    "## Make a prediction, and convert it to a dataframe \n",
    "df = pd.DataFrame.from_dict(pred) \n",
    "\n",
    "submission['selected_text'] = df['answer'] \n",
    "submission['textID'] = train['textID'] \n",
    "\n",
    "submission.to_csv('BERT_submission.csv', index = False) "
   ]
  }
 ]
}